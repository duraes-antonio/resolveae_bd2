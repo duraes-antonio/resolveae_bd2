{
 "cells": [
  {
   "cell_type": "markdown",
   "metadata": {},
   "source": [
    "# Conexão com postgres e Relatorios do Sistema"
   ]
  },
  {
   "cell_type": "markdown",
   "metadata": {},
   "source": [
    "## Instalando biblioteca de acesso com postgres e manipulação de dados e gráficos"
   ]
  },
  {
   "cell_type": "code",
   "execution_count": 1,
   "metadata": {},
   "outputs": [
    {
     "name": "stdout",
     "output_type": "stream",
     "text": [
      "Requirement already satisfied: psycopg2-binary in c:\\users\\elmr\\appdata\\roaming\\python\\python36\\site-packages (2.7.6.1)\n",
      "Requirement already satisfied: seaborn in c:\\users\\elmr\\appdata\\roaming\\python\\python36\\site-packages (0.9.0)\n",
      "Requirement already satisfied: pandas>=0.15.2 in c:\\users\\elmr\\appdata\\roaming\\python\\python36\\site-packages (from seaborn) (0.23.4)\n",
      "Requirement already satisfied: matplotlib>=1.4.3 in c:\\users\\elmr\\appdata\\local\\programs\\python\\python36-32\\lib\\site-packages (from seaborn) (2.0.2)\n",
      "Requirement already satisfied: scipy>=0.14.0 in c:\\users\\elmr\\appdata\\roaming\\python\\python36\\site-packages (from seaborn) (1.1.0)\n",
      "Requirement already satisfied: numpy>=1.9.3 in c:\\users\\elmr\\appdata\\local\\programs\\python\\python36-32\\lib\\site-packages (from seaborn) (1.13.1)\n",
      "Requirement already satisfied: python-dateutil>=2.5.0 in c:\\users\\elmr\\appdata\\local\\programs\\python\\python36-32\\lib\\site-packages (from pandas>=0.15.2->seaborn) (2.6.1)\n",
      "Requirement already satisfied: pytz>=2011k in c:\\users\\elmr\\appdata\\local\\programs\\python\\python36-32\\lib\\site-packages (from pandas>=0.15.2->seaborn) (2017.2)\n",
      "Requirement already satisfied: cycler>=0.10 in c:\\users\\elmr\\appdata\\local\\programs\\python\\python36-32\\lib\\site-packages (from matplotlib>=1.4.3->seaborn) (0.10.0)\n",
      "Requirement already satisfied: pyparsing!=2.0.4,!=2.1.2,!=2.1.6,>=1.5.6 in c:\\users\\elmr\\appdata\\local\\programs\\python\\python36-32\\lib\\site-packages (from matplotlib>=1.4.3->seaborn) (2.2.0)\n",
      "Requirement already satisfied: six>=1.10 in c:\\users\\elmr\\appdata\\local\\programs\\python\\python36-32\\lib\\site-packages (from matplotlib>=1.4.3->seaborn) (1.11.0)\n",
      "Requirement already satisfied: pandas in c:\\users\\elmr\\appdata\\roaming\\python\\python36\\site-packages (0.23.4)\n",
      "Requirement already satisfied: pytz>=2011k in c:\\users\\elmr\\appdata\\local\\programs\\python\\python36-32\\lib\\site-packages (from pandas) (2017.2)\n",
      "Requirement already satisfied: numpy>=1.9.0 in c:\\users\\elmr\\appdata\\local\\programs\\python\\python36-32\\lib\\site-packages (from pandas) (1.13.1)\n",
      "Requirement already satisfied: python-dateutil>=2.5.0 in c:\\users\\elmr\\appdata\\local\\programs\\python\\python36-32\\lib\\site-packages (from pandas) (2.6.1)\n",
      "Requirement already satisfied: six>=1.5 in c:\\users\\elmr\\appdata\\local\\programs\\python\\python36-32\\lib\\site-packages (from python-dateutil>=2.5.0->pandas) (1.11.0)\n"
     ]
    }
   ],
   "source": [
    "!pip install --user psycopg2-binary\n",
    "!pip install --user seaborn\n",
    "!pip install --user pandas"
   ]
  },
  {
   "cell_type": "markdown",
   "metadata": {},
   "source": [
    "### Importando bibliotecas"
   ]
  },
  {
   "cell_type": "code",
   "execution_count": 2,
   "metadata": {},
   "outputs": [],
   "source": [
    "import seaborn as sns\n",
    "import pandas as pd\n",
    "import psycopg2"
   ]
  },
  {
   "cell_type": "markdown",
   "metadata": {},
   "source": [
    "### Usando psycopg2 para configurar conexão"
   ]
  },
  {
   "cell_type": "code",
   "execution_count": 3,
   "metadata": {},
   "outputs": [],
   "source": [
    "conn = psycopg2.connect(host=\"localhost\",database=\"resolve_ae\", user=\"postgres\", password=\"postgres\", port= 5433)"
   ]
  },
  {
   "cell_type": "markdown",
   "metadata": {},
   "source": [
    "## Obtendo dados do database com Pandas"
   ]
  },
  {
   "cell_type": "markdown",
   "metadata": {},
   "source": [
    "# Relatório 1"
   ]
  },
  {
   "cell_type": "markdown",
   "metadata": {},
   "source": [
    "### Objetivo: Obter o número de supervisionados de cada supervisor\n"
   ]
  },
  {
   "cell_type": "markdown",
   "metadata": {},
   "source": [
    "Código para obtenção do resultado:"
   ]
  },
  {
   "cell_type": "code",
   "execution_count": 91,
   "metadata": {},
   "outputs": [],
   "source": [
    "test = pd.read_sql_query(\"\"\"\n",
    "SELECT TIP.nome AS \"QUALIFICACAO\",COUNT(DISTINCT S.id)AS \"SERVICOS_CADASTRADOS\" FROM SERVICO AS S\n",
    "INNER JOIN USUARIO AS U ON U.id = S.fk_usuario\n",
    "INNER JOIN info_profissional AS IP ON IP.fk_usuario = U.id\n",
    "INNER JOIN tipo_info_profissional AS TIP ON TIP.id = IP.fk_tipo_info_prof\n",
    "WHERE 1=1\n",
    "AND TIP.id >= 1\n",
    "AND TIP.ID<=4\n",
    "GROUP BY TIP.nome\n",
    "ORDER BY \"SERVICOS_CADASTRADOS\"\n",
    "                            \"\"\",conn)"
   ]
  },
  {
   "cell_type": "code",
   "execution_count": 93,
   "metadata": {
    "scrolled": true
   },
   "outputs": [
    {
     "data": {
      "text/html": [
       "<div>\n",
       "<style scoped>\n",
       "    .dataframe tbody tr th:only-of-type {\n",
       "        vertical-align: middle;\n",
       "    }\n",
       "\n",
       "    .dataframe tbody tr th {\n",
       "        vertical-align: top;\n",
       "    }\n",
       "\n",
       "    .dataframe thead th {\n",
       "        text-align: right;\n",
       "    }\n",
       "</style>\n",
       "<table border=\"1\" class=\"dataframe\">\n",
       "  <thead>\n",
       "    <tr style=\"text-align: right;\">\n",
       "      <th></th>\n",
       "      <th>QUALIFICACAO</th>\n",
       "      <th>SERVICOS_CADASTRADOS</th>\n",
       "    </tr>\n",
       "  </thead>\n",
       "  <tbody>\n",
       "    <tr>\n",
       "      <th>0</th>\n",
       "      <td>PÓS-GRADUAÇÃO</td>\n",
       "      <td>113680</td>\n",
       "    </tr>\n",
       "    <tr>\n",
       "      <th>1</th>\n",
       "      <td>GRADUAÇÃO</td>\n",
       "      <td>114015</td>\n",
       "    </tr>\n",
       "    <tr>\n",
       "      <th>2</th>\n",
       "      <td>CURSO TÉCNICO</td>\n",
       "      <td>114188</td>\n",
       "    </tr>\n",
       "    <tr>\n",
       "      <th>3</th>\n",
       "      <td>DOMÍNIO TECNOLÓGICO</td>\n",
       "      <td>114250</td>\n",
       "    </tr>\n",
       "  </tbody>\n",
       "</table>\n",
       "</div>"
      ],
      "text/plain": [
       "          QUALIFICACAO  SERVICOS_CADASTRADOS\n",
       "0        PÓS-GRADUAÇÃO                113680\n",
       "1            GRADUAÇÃO                114015\n",
       "2        CURSO TÉCNICO                114188\n",
       "3  DOMÍNIO TECNOLÓGICO                114250"
      ]
     },
     "execution_count": 93,
     "metadata": {},
     "output_type": "execute_result"
    }
   ],
   "source": [
    "test"
   ]
  },
  {
   "cell_type": "code",
   "execution_count": 95,
   "metadata": {},
   "outputs": [
    {
     "data": {
      "image/png": "[encoded data removed]",
      "text/plain": [
       "<matplotlib.figure.Figure at 0xd70f90>"
      ]
     },
     "metadata": {},
     "output_type": "display_data"
    }
   ],
   "source": [
    "df = pd.DataFrame(test)\n",
    "import matplotlib.pyplot as plt\n",
    "\n",
    "# Pie chart, where the slices will be ordered and plotted counter-clockwise:\n",
    "labels = df.QUALIFICACAO\n",
    "sizes = df.SERVICOS_CADASTRADOS\n",
    "explode = (0,0,0,0)  # only \"explode\" the 2nd slice (i.e. 'Hogs')\n",
    "fig1, ax1 = plt.subplots()\n",
    "ax1.pie(sizes, explode=explode, labels=labels, autopct='%1.1f%%',\n",
    "        shadow=True, startangle=90)\n",
    "ax1.axis('equal')  # Equal aspect ratio ensures that pie is drawn as a circle.\n",
    "\n",
    "plt.show()"
   ]
  },
  {
   "cell_type": "markdown",
   "metadata": {},
   "source": [
    "# Relatorio2"
   ]
  },
  {
   "cell_type": "markdown",
   "metadata": {},
   "source": [
    "### Objetivo: Obter valor médio dos salários por departamento"
   ]
  },
  {
   "cell_type": "markdown",
   "metadata": {},
   "source": [
    "codigo para obtenção do resultado:"
   ]
  },
  {
   "cell_type": "code",
   "execution_count": 27,
   "metadata": {},
   "outputs": [],
   "source": [
    "result = pd.read_sql_query(\"\"\"\n",
    "SELECT TS.nome, COUNT(DISTINCT S.id) AS \"NUMERO_CONTRATOS\" FROM usuario AS U\n",
    "INNER JOIN avaliacao AS A ON A.fk_usuario = U.id\n",
    "INNER JOIN servico AS S ON S.id = A.fk_servico\n",
    "INNER JOIN servico_subtipo_servico AS SSS ON SSS.fk_servico = S.id\n",
    "INNER JOIN subtipo_servico AS SB ON SB.id = SSS.fk_subtipo_servico\n",
    "INNER JOIN tipo_servico as TS ON TS.id = SB.fk_tipo_servico\n",
    "INNER JOIN endereco AS E ON E.fk_usuario = U.id\n",
    "INNER JOIN bairro AS B ON B.id = E.fk_bairro\n",
    "INNER JOIN cidade AS C ON C.id = B.fk_cidade\n",
    "INNER JOIN estado AS UF ON UF.id = C.fk_estado\n",
    "WHERE UF.id = 2\n",
    "GROUP BY TS.nome\n",
    "ORDER BY \"NUMERO_CONTRATOS\"\n",
    "\n",
    "\n",
    "                            \"\"\",conn)"
   ]
  },
  {
   "cell_type": "code",
   "execution_count": 28,
   "metadata": {},
   "outputs": [
    {
     "data": {
      "text/html": [
       "<div>\n",
       "<style scoped>\n",
       "    .dataframe tbody tr th:only-of-type {\n",
       "        vertical-align: middle;\n",
       "    }\n",
       "\n",
       "    .dataframe tbody tr th {\n",
       "        vertical-align: top;\n",
       "    }\n",
       "\n",
       "    .dataframe thead th {\n",
       "        text-align: right;\n",
       "    }\n",
       "</style>\n",
       "<table border=\"1\" class=\"dataframe\">\n",
       "  <thead>\n",
       "    <tr style=\"text-align: right;\">\n",
       "      <th></th>\n",
       "      <th>nome</th>\n",
       "      <th>NUMERO_CONTRATOS</th>\n",
       "    </tr>\n",
       "  </thead>\n",
       "  <tbody>\n",
       "    <tr>\n",
       "      <th>0</th>\n",
       "      <td>Banco de Dados</td>\n",
       "      <td>539</td>\n",
       "    </tr>\n",
       "    <tr>\n",
       "      <th>1</th>\n",
       "      <td>Desenvolvimento</td>\n",
       "      <td>550</td>\n",
       "    </tr>\n",
       "    <tr>\n",
       "      <th>2</th>\n",
       "      <td>Design</td>\n",
       "      <td>573</td>\n",
       "    </tr>\n",
       "    <tr>\n",
       "      <th>3</th>\n",
       "      <td>Análise de Sistemas</td>\n",
       "      <td>589</td>\n",
       "    </tr>\n",
       "    <tr>\n",
       "      <th>4</th>\n",
       "      <td>Infraestrutura</td>\n",
       "      <td>614</td>\n",
       "    </tr>\n",
       "  </tbody>\n",
       "</table>\n",
       "</div>"
      ],
      "text/plain": [
       "                  nome  NUMERO_CONTRATOS\n",
       "0       Banco de Dados               539\n",
       "1      Desenvolvimento               550\n",
       "2               Design               573\n",
       "3  Análise de Sistemas               589\n",
       "4       Infraestrutura               614"
      ]
     },
     "execution_count": 28,
     "metadata": {},
     "output_type": "execute_result"
    }
   ],
   "source": [
    "result"
   ]
  },
  {
   "cell_type": "markdown",
   "metadata": {},
   "source": [
    "Alternativamente podemos aplicar estilos a tabela para melhor formatação usando pandas e seaborn"
   ]
  },
  {
   "cell_type": "code",
   "execution_count": 29,
   "metadata": {},
   "outputs": [
    {
     "data": {
      "text/html": [
       "<style  type=\"text/css\" >\n",
       "    #T_dd612f5c_f045_11e8_adb4_14dae9aafab9row0_col1 {\n",
       "            background-color:  #e5ffe5;\n",
       "        }    #T_dd612f5c_f045_11e8_adb4_14dae9aafab9row1_col1 {\n",
       "            background-color:  #c4edc4;\n",
       "        }    #T_dd612f5c_f045_11e8_adb4_14dae9aafab9row2_col1 {\n",
       "            background-color:  #7dc57d;\n",
       "        }    #T_dd612f5c_f045_11e8_adb4_14dae9aafab9row3_col1 {\n",
       "            background-color:  #4daa4d;\n",
       "        }    #T_dd612f5c_f045_11e8_adb4_14dae9aafab9row4_col1 {\n",
       "            background-color:  #008000;\n",
       "        }</style>  \n",
       "<table id=\"T_dd612f5c_f045_11e8_adb4_14dae9aafab9\" > \n",
       "<thead>    <tr> \n",
       "        <th class=\"blank level0\" ></th> \n",
       "        <th class=\"col_heading level0 col0\" >nome</th> \n",
       "        <th class=\"col_heading level0 col1\" >NUMERO_CONTRATOS</th> \n",
       "    </tr></thead> \n",
       "<tbody>    <tr> \n",
       "        <th id=\"T_dd612f5c_f045_11e8_adb4_14dae9aafab9level0_row0\" class=\"row_heading level0 row0\" >0</th> \n",
       "        <td id=\"T_dd612f5c_f045_11e8_adb4_14dae9aafab9row0_col0\" class=\"data row0 col0\" >Banco de Dados</td> \n",
       "        <td id=\"T_dd612f5c_f045_11e8_adb4_14dae9aafab9row0_col1\" class=\"data row0 col1\" >539</td> \n",
       "    </tr>    <tr> \n",
       "        <th id=\"T_dd612f5c_f045_11e8_adb4_14dae9aafab9level0_row1\" class=\"row_heading level0 row1\" >1</th> \n",
       "        <td id=\"T_dd612f5c_f045_11e8_adb4_14dae9aafab9row1_col0\" class=\"data row1 col0\" >Desenvolvimento</td> \n",
       "        <td id=\"T_dd612f5c_f045_11e8_adb4_14dae9aafab9row1_col1\" class=\"data row1 col1\" >550</td> \n",
       "    </tr>    <tr> \n",
       "        <th id=\"T_dd612f5c_f045_11e8_adb4_14dae9aafab9level0_row2\" class=\"row_heading level0 row2\" >2</th> \n",
       "        <td id=\"T_dd612f5c_f045_11e8_adb4_14dae9aafab9row2_col0\" class=\"data row2 col0\" >Design</td> \n",
       "        <td id=\"T_dd612f5c_f045_11e8_adb4_14dae9aafab9row2_col1\" class=\"data row2 col1\" >573</td> \n",
       "    </tr>    <tr> \n",
       "        <th id=\"T_dd612f5c_f045_11e8_adb4_14dae9aafab9level0_row3\" class=\"row_heading level0 row3\" >3</th> \n",
       "        <td id=\"T_dd612f5c_f045_11e8_adb4_14dae9aafab9row3_col0\" class=\"data row3 col0\" >Análise de Sistemas</td> \n",
       "        <td id=\"T_dd612f5c_f045_11e8_adb4_14dae9aafab9row3_col1\" class=\"data row3 col1\" >589</td> \n",
       "    </tr>    <tr> \n",
       "        <th id=\"T_dd612f5c_f045_11e8_adb4_14dae9aafab9level0_row4\" class=\"row_heading level0 row4\" >4</th> \n",
       "        <td id=\"T_dd612f5c_f045_11e8_adb4_14dae9aafab9row4_col0\" class=\"data row4 col0\" >Infraestrutura</td> \n",
       "        <td id=\"T_dd612f5c_f045_11e8_adb4_14dae9aafab9row4_col1\" class=\"data row4 col1\" >614</td> \n",
       "    </tr></tbody> \n",
       "</table> "
      ],
      "text/plain": [
       "<pandas.io.formats.style.Styler at 0x4a42d30>"
      ]
     },
     "execution_count": 29,
     "metadata": {},
     "output_type": "execute_result"
    }
   ],
   "source": [
    "df = pd.DataFrame(result)\n",
    "cm = sns.light_palette(\"green\", as_cmap=True)\n",
    "df.style.background_gradient(cmap=cm)\n"
   ]
  },
  {
   "cell_type": "markdown",
   "metadata": {},
   "source": [
    "Podemos também utilizar o matplotlib que é instalado por padrão com o seaborn"
   ]
  },
  {
   "cell_type": "code",
   "execution_count": 31,
   "metadata": {},
   "outputs": [
    {
     "data": {
      "image/png": "[encoded data removed]",
      "text/plain": [
       "<matplotlib.figure.Figure at 0x4a59670>"
      ]
     },
     "metadata": {},
     "output_type": "display_data"
    }
   ],
   "source": [
    "import matplotlib.pyplot as plt; plt.rcdefaults()\n",
    "import numpy as np\n",
    "import matplotlib.pyplot as plt\n",
    " \n",
    "objects = tuple(df.nome)\n",
    "y_pos = np.arange(len(objects))\n",
    "performance = list(df.NUMERO_CONTRATOS)\n",
    " \n",
    "plt.bar(y_pos, performance, align='center', alpha=0.5)\n",
    "plt.xticks(y_pos, objects)\n",
    "plt.ylabel('QUANTIDADE DE SERVICOS CONTRATOS')\n",
    "plt.title('AREA - ALAGOAS')\n",
    " \n",
    "plt.show()"
   ]
  },
  {
   "cell_type": "markdown",
   "metadata": {},
   "source": [
    "References"
   ]
  },
  {
   "cell_type": "markdown",
   "metadata": {},
   "source": [
    "## Relatório 3"
   ]
  },
  {
   "cell_type": "markdown",
   "metadata": {},
   "source": [
    "### Objetivo: Obtenção de aumento de custo de 20% ao ano por funcionário"
   ]
  },
  {
   "cell_type": "markdown",
   "metadata": {},
   "source": [
    "codigo para obtenção do resultado:"
   ]
  },
  {
   "cell_type": "code",
   "execution_count": 36,
   "metadata": {},
   "outputs": [],
   "source": [
    "result = pd.read_sql_query(\"\"\"\n",
    "SELECT UF.NOME, COUNT(DISTINCT S.id) AS \"TOTAL_SERVICOS\" FROM estado AS UF\n",
    "INNER JOIN cidade AS C ON C.fk_estado = UF.id\n",
    "INNER JOIN bairro AS B ON B.fk_cidade = C.id\n",
    "INNER JOIN endereco AS E ON E.fk_bairro = B.id\n",
    "INNER JOIN usuario AS U ON E.fk_usuario = U.id\n",
    "INNER JOIN servico AS S ON S.fk_usuario = U.id\n",
    "INNER JOIN servico_subtipo_servico AS SSS ON SSS.fk_servico = S.id\n",
    "INNER JOIN subtipo_servico AS SB ON SB.ID = SSS.fk_subtipo_servico\n",
    "INNER JOIN tipo_servico AS TS ON TS.id = SB.fk_tipo_servico\n",
    "WHERE TS.ID = 2\n",
    "GROUP BY UF.nome\n",
    "ORDER BY \"TOTAL_SERVICOS\" DESC,UF.nome DESC\n",
    "\n",
    "                            \"\"\",conn)"
   ]
  },
  {
   "cell_type": "code",
   "execution_count": 37,
   "metadata": {},
   "outputs": [
    {
     "name": "stdout",
     "output_type": "stream",
     "text": [
      "CONTRATACOES DA AREA DE BANCO DE DADOS\n"
     ]
    },
    {
     "data": {
      "text/html": [
       "<div>\n",
       "<style scoped>\n",
       "    .dataframe tbody tr th:only-of-type {\n",
       "        vertical-align: middle;\n",
       "    }\n",
       "\n",
       "    .dataframe tbody tr th {\n",
       "        vertical-align: top;\n",
       "    }\n",
       "\n",
       "    .dataframe thead th {\n",
       "        text-align: right;\n",
       "    }\n",
       "</style>\n",
       "<table border=\"1\" class=\"dataframe\">\n",
       "  <thead>\n",
       "    <tr style=\"text-align: right;\">\n",
       "      <th></th>\n",
       "      <th>nome</th>\n",
       "      <th>TOTAL_SERVICOS</th>\n",
       "    </tr>\n",
       "  </thead>\n",
       "  <tbody>\n",
       "    <tr>\n",
       "      <th>0</th>\n",
       "      <td>Rio Grande do Sul</td>\n",
       "      <td>26523</td>\n",
       "    </tr>\n",
       "    <tr>\n",
       "      <th>1</th>\n",
       "      <td>Santa Catarina</td>\n",
       "      <td>18248</td>\n",
       "    </tr>\n",
       "    <tr>\n",
       "      <th>2</th>\n",
       "      <td>Ceará</td>\n",
       "      <td>17454</td>\n",
       "    </tr>\n",
       "    <tr>\n",
       "      <th>3</th>\n",
       "      <td>São Paulo</td>\n",
       "      <td>10890</td>\n",
       "    </tr>\n",
       "    <tr>\n",
       "      <th>4</th>\n",
       "      <td>Minas Gerais</td>\n",
       "      <td>9561</td>\n",
       "    </tr>\n",
       "    <tr>\n",
       "      <th>5</th>\n",
       "      <td>Paraná</td>\n",
       "      <td>6913</td>\n",
       "    </tr>\n",
       "    <tr>\n",
       "      <th>6</th>\n",
       "      <td>Pernambuco</td>\n",
       "      <td>5977</td>\n",
       "    </tr>\n",
       "    <tr>\n",
       "      <th>7</th>\n",
       "      <td>Mato Grosso</td>\n",
       "      <td>4475</td>\n",
       "    </tr>\n",
       "    <tr>\n",
       "      <th>8</th>\n",
       "      <td>Espírito Santo</td>\n",
       "      <td>4246</td>\n",
       "    </tr>\n",
       "    <tr>\n",
       "      <th>9</th>\n",
       "      <td>Amazonas</td>\n",
       "      <td>4214</td>\n",
       "    </tr>\n",
       "    <tr>\n",
       "      <th>10</th>\n",
       "      <td>Rio de Janeiro</td>\n",
       "      <td>4131</td>\n",
       "    </tr>\n",
       "    <tr>\n",
       "      <th>11</th>\n",
       "      <td>Piauí</td>\n",
       "      <td>3379</td>\n",
       "    </tr>\n",
       "    <tr>\n",
       "      <th>12</th>\n",
       "      <td>Rio Grande do Norte</td>\n",
       "      <td>3349</td>\n",
       "    </tr>\n",
       "    <tr>\n",
       "      <th>13</th>\n",
       "      <td>Mato Grosso do Sul</td>\n",
       "      <td>3270</td>\n",
       "    </tr>\n",
       "    <tr>\n",
       "      <th>14</th>\n",
       "      <td>Pará</td>\n",
       "      <td>3209</td>\n",
       "    </tr>\n",
       "    <tr>\n",
       "      <th>15</th>\n",
       "      <td>Rondônia</td>\n",
       "      <td>2316</td>\n",
       "    </tr>\n",
       "    <tr>\n",
       "      <th>16</th>\n",
       "      <td>Paraíba</td>\n",
       "      <td>1154</td>\n",
       "    </tr>\n",
       "    <tr>\n",
       "      <th>17</th>\n",
       "      <td>Alagoas</td>\n",
       "      <td>1105</td>\n",
       "    </tr>\n",
       "    <tr>\n",
       "      <th>18</th>\n",
       "      <td>Sergipe</td>\n",
       "      <td>961</td>\n",
       "    </tr>\n",
       "    <tr>\n",
       "      <th>19</th>\n",
       "      <td>Bahia</td>\n",
       "      <td>632</td>\n",
       "    </tr>\n",
       "    <tr>\n",
       "      <th>20</th>\n",
       "      <td>Maranhão</td>\n",
       "      <td>313</td>\n",
       "    </tr>\n",
       "    <tr>\n",
       "      <th>21</th>\n",
       "      <td>Amapá</td>\n",
       "      <td>301</td>\n",
       "    </tr>\n",
       "    <tr>\n",
       "      <th>22</th>\n",
       "      <td>Goiás</td>\n",
       "      <td>231</td>\n",
       "    </tr>\n",
       "    <tr>\n",
       "      <th>23</th>\n",
       "      <td>Roraima</td>\n",
       "      <td>74</td>\n",
       "    </tr>\n",
       "  </tbody>\n",
       "</table>\n",
       "</div>"
      ],
      "text/plain": [
       "                   nome  TOTAL_SERVICOS\n",
       "0     Rio Grande do Sul           26523\n",
       "1        Santa Catarina           18248\n",
       "2                 Ceará           17454\n",
       "3             São Paulo           10890\n",
       "4          Minas Gerais            9561\n",
       "5                Paraná            6913\n",
       "6            Pernambuco            5977\n",
       "7           Mato Grosso            4475\n",
       "8        Espírito Santo            4246\n",
       "9              Amazonas            4214\n",
       "10       Rio de Janeiro            4131\n",
       "11                Piauí            3379\n",
       "12  Rio Grande do Norte            3349\n",
       "13   Mato Grosso do Sul            3270\n",
       "14                 Pará            3209\n",
       "15             Rondônia            2316\n",
       "16              Paraíba            1154\n",
       "17              Alagoas            1105\n",
       "18              Sergipe             961\n",
       "19                Bahia             632\n",
       "20             Maranhão             313\n",
       "21                Amapá             301\n",
       "22                Goiás             231\n",
       "23              Roraima              74"
      ]
     },
     "execution_count": 37,
     "metadata": {},
     "output_type": "execute_result"
    }
   ],
   "source": [
    "print(\"CONTRATACOES DA AREA DE BANCO DE DADOS\")\n",
    "result"
   ]
  },
  {
   "cell_type": "markdown",
   "metadata": {},
   "source": [
    "## Relatório 4"
   ]
  },
  {
   "cell_type": "markdown",
   "metadata": {},
   "source": [
    "### Objetivo: Obter valor total gasto com salários por departamento, média de valor salarial por departamento, total de horas de trabalho por departamento, e media de horas de trabalho por departamento "
   ]
  },
  {
   "cell_type": "markdown",
   "metadata": {},
   "source": [
    "codigo para obtenção do resultado:"
   ]
  },
  {
   "cell_type": "code",
   "execution_count": 42,
   "metadata": {},
   "outputs": [],
   "source": [
    "result = pd.read_sql_query(\"\"\"\n",
    "SELECT TS.nome AS \"AREA\", SUM(A.nota)/COUNT(TS.*) AS \"MEDIA_AREA\", COUNT(A.id) AS \"NUMERO_AVALIACOES\", SUM(A.nota) AS \"SOMA_NOTAS\" FROM tipo_servico AS TS\n",
    "INNER JOIN subtipo_servico AS SB ON SB.fk_tipo_servico = TS.id\n",
    "INNER JOIN servico_subtipo_servico AS SSS ON SSS.fk_subtipo_servico = SB.id\n",
    "INNER JOIN servico AS S ON S.id = SSS.fk_servico\n",
    "INNER JOIN avaliacao AS A ON A.fk_servico = S.id\n",
    "GROUP BY TS.nome\n",
    "ORDER BY \"MEDIA_AREA\" DESC\n",
    "                            \"\"\",conn)"
   ]
  },
  {
   "cell_type": "code",
   "execution_count": 43,
   "metadata": {},
   "outputs": [
    {
     "data": {
      "text/html": [
       "<div>\n",
       "<style scoped>\n",
       "    .dataframe tbody tr th:only-of-type {\n",
       "        vertical-align: middle;\n",
       "    }\n",
       "\n",
       "    .dataframe tbody tr th {\n",
       "        vertical-align: top;\n",
       "    }\n",
       "\n",
       "    .dataframe thead th {\n",
       "        text-align: right;\n",
       "    }\n",
       "</style>\n",
       "<table border=\"1\" class=\"dataframe\">\n",
       "  <thead>\n",
       "    <tr style=\"text-align: right;\">\n",
       "      <th></th>\n",
       "      <th>AREA</th>\n",
       "      <th>MEDIA_AREA</th>\n",
       "      <th>NUMERO_AVALIACOES</th>\n",
       "      <th>SOMA_NOTAS</th>\n",
       "    </tr>\n",
       "  </thead>\n",
       "  <tbody>\n",
       "    <tr>\n",
       "      <th>0</th>\n",
       "      <td>Banco de Dados</td>\n",
       "      <td>3</td>\n",
       "      <td>132638</td>\n",
       "      <td>398477</td>\n",
       "    </tr>\n",
       "    <tr>\n",
       "      <th>1</th>\n",
       "      <td>Design</td>\n",
       "      <td>3</td>\n",
       "      <td>133106</td>\n",
       "      <td>400156</td>\n",
       "    </tr>\n",
       "    <tr>\n",
       "      <th>2</th>\n",
       "      <td>Infraestrutura</td>\n",
       "      <td>3</td>\n",
       "      <td>133337</td>\n",
       "      <td>400038</td>\n",
       "    </tr>\n",
       "    <tr>\n",
       "      <th>3</th>\n",
       "      <td>Análise de Sistemas</td>\n",
       "      <td>2</td>\n",
       "      <td>133065</td>\n",
       "      <td>399156</td>\n",
       "    </tr>\n",
       "    <tr>\n",
       "      <th>4</th>\n",
       "      <td>Desenvolvimento</td>\n",
       "      <td>2</td>\n",
       "      <td>132922</td>\n",
       "      <td>398497</td>\n",
       "    </tr>\n",
       "  </tbody>\n",
       "</table>\n",
       "</div>"
      ],
      "text/plain": [
       "                  AREA  MEDIA_AREA  NUMERO_AVALIACOES  SOMA_NOTAS\n",
       "0       Banco de Dados           3             132638      398477\n",
       "1               Design           3             133106      400156\n",
       "2       Infraestrutura           3             133337      400038\n",
       "3  Análise de Sistemas           2             133065      399156\n",
       "4      Desenvolvimento           2             132922      398497"
      ]
     },
     "execution_count": 43,
     "metadata": {},
     "output_type": "execute_result"
    }
   ],
   "source": [
    "result"
   ]
  },
  {
   "cell_type": "code",
   "execution_count": 82,
   "metadata": {},
   "outputs": [
    {
     "data": {
      "image/png": "[encoded data removed]",
      "text/plain": [
       "<matplotlib.figure.Figure at 0xdb4c450>"
      ]
     },
     "metadata": {},
     "output_type": "display_data"
    }
   ],
   "source": [
    "df = pd.DataFrame(result)\n",
    "cm = sns.light_palette(\"blue\", as_cmap=True)\n",
    "df.style.background_gradient(cmap=cm)\n",
    "\n",
    "import matplotlib.pyplot as plt; plt.rcdefaults()\n",
    "import numpy as np\n",
    "import matplotlib.pyplot as plt\n",
    " \n",
    "objects = tuple(df.SOMA_NOTAS)\n",
    "y_pos = np.arange(len(objects))\n",
    "performance = list(df.MEDIA_AREA)\n",
    " \n",
    "plt.bar(y_pos, performance, align='center', alpha=0.5)\n",
    "plt.xticks(y_pos, objects)\n",
    "plt.ylabel('MEDIA DAS AVALIACAO')\n",
    "plt.title('MEDIA AVALIACAO X SOMATORIO DE AVALIACOES')\n",
    " \n",
    "plt.show()"
   ]
  },
  {
   "cell_type": "code",
   "execution_count": 45,
   "metadata": {},
   "outputs": [
    {
     "data": {
      "text/plain": [
       "Index(['AREA', 'MEDIA_AREA', 'NUMERO_AVALIACOES', 'SOMA_NOTAS'], dtype='object')"
      ]
     },
     "execution_count": 45,
     "metadata": {},
     "output_type": "execute_result"
    }
   ],
   "source": [
    "df.columns"
   ]
  },
  {
   "cell_type": "code",
   "execution_count": 87,
   "metadata": {},
   "outputs": [
    {
     "data": {
      "text/html": [
       "<div>\n",
       "<style scoped>\n",
       "    .dataframe tbody tr th:only-of-type {\n",
       "        vertical-align: middle;\n",
       "    }\n",
       "\n",
       "    .dataframe tbody tr th {\n",
       "        vertical-align: top;\n",
       "    }\n",
       "\n",
       "    .dataframe thead th {\n",
       "        text-align: right;\n",
       "    }\n",
       "</style>\n",
       "<table border=\"1\" class=\"dataframe\">\n",
       "  <thead>\n",
       "    <tr style=\"text-align: right;\">\n",
       "      <th></th>\n",
       "      <th>AREA</th>\n",
       "      <th>MEDIA_AREA</th>\n",
       "      <th>NUMERO_AVALIACOES</th>\n",
       "      <th>SOMA_NOTAS</th>\n",
       "    </tr>\n",
       "  </thead>\n",
       "  <tbody>\n",
       "    <tr>\n",
       "      <th>0</th>\n",
       "      <td>Banco de Dados</td>\n",
       "      <td>3</td>\n",
       "      <td>132638</td>\n",
       "      <td>398477</td>\n",
       "    </tr>\n",
       "    <tr>\n",
       "      <th>1</th>\n",
       "      <td>Design</td>\n",
       "      <td>3</td>\n",
       "      <td>133106</td>\n",
       "      <td>400156</td>\n",
       "    </tr>\n",
       "    <tr>\n",
       "      <th>2</th>\n",
       "      <td>Infraestrutura</td>\n",
       "      <td>3</td>\n",
       "      <td>133337</td>\n",
       "      <td>400038</td>\n",
       "    </tr>\n",
       "    <tr>\n",
       "      <th>3</th>\n",
       "      <td>Análise de Sistemas</td>\n",
       "      <td>2</td>\n",
       "      <td>133065</td>\n",
       "      <td>399156</td>\n",
       "    </tr>\n",
       "    <tr>\n",
       "      <th>4</th>\n",
       "      <td>Desenvolvimento</td>\n",
       "      <td>2</td>\n",
       "      <td>132922</td>\n",
       "      <td>398497</td>\n",
       "    </tr>\n",
       "  </tbody>\n",
       "</table>\n",
       "</div>"
      ],
      "text/plain": [
       "                  AREA  MEDIA_AREA  NUMERO_AVALIACOES  SOMA_NOTAS\n",
       "0       Banco de Dados           3             132638      398477\n",
       "1               Design           3             133106      400156\n",
       "2       Infraestrutura           3             133337      400038\n",
       "3  Análise de Sistemas           2             133065      399156\n",
       "4      Desenvolvimento           2             132922      398497"
      ]
     },
     "execution_count": 87,
     "metadata": {},
     "output_type": "execute_result"
    }
   ],
   "source": [
    "df"
   ]
  },
  {
   "cell_type": "markdown",
   "metadata": {},
   "source": [
    "# Referencias"
   ]
  },
  {
   "cell_type": "markdown",
   "metadata": {},
   "source": [
    "https://pandas.pydata.org/pandas-docs/stable/style.html <br>\n",
    "https://pythonspot.com/matplotlib-bar-chart/<br>\n",
    "https://pandas.pydata.org/pandas-docs/stable/generated/pandas.DataFrame.loc.html <br>"
   ]
  }
 ],
 "metadata": {
  "kernelspec": {
   "display_name": "Python 3",
   "language": "python",
   "name": "python3"
  },
  "language_info": {
   "codemirror_mode": {
    "name": "ipython",
    "version": 3
   },
   "file_extension": ".py",
   "mimetype": "text/x-python",
   "name": "python",
   "nbconvert_exporter": "python",
   "pygments_lexer": "ipython3",
   "version": "3.6.2"
  }
 },
 "nbformat": 4,
 "nbformat_minor": 2
}
